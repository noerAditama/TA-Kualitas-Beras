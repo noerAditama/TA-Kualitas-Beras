{
  "nbformat": 4,
  "nbformat_minor": 0,
  "metadata": {
    "colab": {
      "name": "tes.ipynb",
      "provenance": [],
      "authorship_tag": "ABX9TyMLWRHwsOjDnXyPZikV1l5/",
      "include_colab_link": true
    },
    "kernelspec": {
      "name": "python3",
      "display_name": "Python 3"
    }
  },
  "cells": [
    {
      "cell_type": "markdown",
      "metadata": {
        "id": "view-in-github",
        "colab_type": "text"
      },
      "source": [
        "<a href=\"https://colab.research.google.com/github/noerAditama/TA-Kualitas-Beras/blob/master/tes.ipynb\" target=\"_parent\"><img src=\"https://colab.research.google.com/assets/colab-badge.svg\" alt=\"Open In Colab\"/></a>"
      ]
    },
    {
      "cell_type": "markdown",
      "metadata": {
        "id": "8lCxkkzqZzZ9",
        "colab_type": "text"
      },
      "source": [
        "IMPORT DATA DARI GITHUB"
      ]
    },
    {
      "cell_type": "code",
      "metadata": {
        "id": "83foswU7Vafh",
        "colab_type": "code",
        "colab": {}
      },
      "source": [
        "!apt-get install subversion > /dev/null\n",
        "!svn export https://github.com/noerAditama/TA-Kualitas-Beras/trunk/tes > /dev/null"
      ],
      "execution_count": 0,
      "outputs": []
    },
    {
      "cell_type": "markdown",
      "metadata": {
        "id": "eog00lt4aCQ2",
        "colab_type": "text"
      },
      "source": [
        "IMPORT MODULE"
      ]
    },
    {
      "cell_type": "code",
      "metadata": {
        "id": "p1nX_rnbaBBO",
        "colab_type": "code",
        "colab": {}
      },
      "source": [
        "from __future__ import absolute_import, division, print_function, unicode_literals\n",
        "try:\n",
        "  %tensorflow version 2.x\n",
        "except Exception:\n",
        "  pass\n",
        "\n",
        "import numpy as np\n",
        "import math,os,sys\n",
        "import itertools\n",
        "import matplotlib.pyplot as plt\n",
        "plt.style.use('default')\n",
        "from scipy import ndimage\n",
        "from skimage import measure, morphology\n",
        "from skimage.io import imsave, imread\n",
        "from skimage.filters import threshold_otsu\n",
        "from skimage.transform import resize\n"
      ],
      "execution_count": 0,
      "outputs": []
    },
    {
      "cell_type": "markdown",
      "metadata": {
        "id": "LqhnroPDeOPA",
        "colab_type": "text"
      },
      "source": [
        "IMPORT DATA"
      ]
    },
    {
      "cell_type": "code",
      "metadata": {
        "id": "F0MtigfbePV1",
        "colab_type": "code",
        "colab": {
          "base_uri": "https://localhost:8080/",
          "height": 34
        },
        "outputId": "47f6b863-0eda-4260-815b-b255798725c1"
      },
      "source": [
        "!ls tes/data"
      ],
      "execution_count": 17,
      "outputs": [
        {
          "output_type": "stream",
          "text": [
            "'ir64 medium.jpeg'  'ir64 premium.jpg'\n"
          ],
          "name": "stdout"
        }
      ]
    }
  ]
}