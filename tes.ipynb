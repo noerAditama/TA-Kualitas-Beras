{
  "nbformat": 4,
  "nbformat_minor": 0,
  "metadata": {
    "colab": {
      "name": "tes.ipynb",
      "provenance": [],
      "authorship_tag": "ABX9TyPkFyab2LBmdSmZn3GnySsY",
      "include_colab_link": true
    },
    "kernelspec": {
      "name": "python3",
      "display_name": "Python 3"
    }
  },
  "cells": [
    {
      "cell_type": "markdown",
      "metadata": {
        "id": "view-in-github",
        "colab_type": "text"
      },
      "source": [
        "<a href=\"https://colab.research.google.com/github/noerAditama/TA-Kualitas-Beras/blob/master/tes.ipynb\" target=\"_parent\"><img src=\"https://colab.research.google.com/assets/colab-badge.svg\" alt=\"Open In Colab\"/></a>"
      ]
    },
    {
      "cell_type": "markdown",
      "metadata": {
        "id": "8lCxkkzqZzZ9",
        "colab_type": "text"
      },
      "source": [
        "IMPORT DATA DARI GITHUB"
      ]
    },
    {
      "cell_type": "code",
      "metadata": {
        "id": "83foswU7Vafh",
        "colab_type": "code",
        "colab": {
          "base_uri": "https://localhost:8080/",
          "height": 51
        },
        "outputId": "300f746e-2f93-47ac-a2b0-cdc8cc281d7f"
      },
      "source": [
        "!apt-get install subversion > /dev/null/\n",
        "!svn export https://github.com/noerAditama/TA-Kualitas-Beras/trunk/tes > /dev/null"
      ],
      "execution_count": 12,
      "outputs": [
        {
          "output_type": "stream",
          "text": [
            "/bin/bash: /dev/null/: Is a directory\n",
            "/bin/bash: svn: command not found\n"
          ],
          "name": "stdout"
        }
      ]
    },
    {
      "cell_type": "markdown",
      "metadata": {
        "id": "eog00lt4aCQ2",
        "colab_type": "text"
      },
      "source": [
        "IMPORT MODULE"
      ]
    },
    {
      "cell_type": "code",
      "metadata": {
        "id": "p1nX_rnbaBBO",
        "colab_type": "code",
        "colab": {}
      },
      "source": [
        "from __future__ import absolute_import, division, print_function, unicode_literals\n",
        "try:\n",
        "  %tensorflow version 2.x\n",
        "except Exception:\n",
        "  pass\n",
        "\n",
        "import numpy as np\n",
        "import math,os,sys\n",
        "import itertools\n",
        "import matplotlib.pyplot as plt\n",
        "plt.style.use('default')\n",
        "from scipy import ndimage\n",
        "from skimage import measure, morphology\n",
        "from skimage.io import imsave, imread\n",
        "from skimage.filters import threshold_otsu\n",
        "from skimage.transform import resize\n"
      ],
      "execution_count": 0,
      "outputs": []
    },
    {
      "cell_type": "markdown",
      "metadata": {
        "id": "LqhnroPDeOPA",
        "colab_type": "text"
      },
      "source": [
        "IMPORT DATA"
      ]
    },
    {
      "cell_type": "code",
      "metadata": {
        "id": "F0MtigfbePV1",
        "colab_type": "code",
        "colab": {
          "base_uri": "https://localhost:8080/",
          "height": 34
        },
        "outputId": "f4d07d39-1a53-4e3a-8fb4-47c05214e54f"
      },
      "source": [
        "!ls tes/data"
      ],
      "execution_count": 14,
      "outputs": [
        {
          "output_type": "stream",
          "text": [
            "ls: cannot access 'tes/data': No such file or directory\n"
          ],
          "name": "stdout"
        }
      ]
    }
  ]
}